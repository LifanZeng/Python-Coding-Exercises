{
 "cells": [
  {
   "cell_type": "markdown",
   "id": "5392a792",
   "metadata": {},
   "source": [
    "## Data Type"
   ]
  },
  {
   "cell_type": "markdown",
   "id": "ac62657a",
   "metadata": {},
   "source": [
    "The content below referred to chapter 3,4,5,8 of Essential Python (1st edition) by Sridevi Pudipeddi and Ravi Chityala"
   ]
  },
  {
   "cell_type": "code",
   "execution_count": 1,
   "id": "9ca3d060",
   "metadata": {},
   "outputs": [
    {
     "name": "stdout",
     "output_type": "stream",
     "text": [
      "12\n",
      "-10.1\n",
      "(1+0.678j)\n",
      "3.25e-07j\n",
      "-2e+19\n"
     ]
    }
   ],
   "source": [
    "#Number\n",
    "int1 = 12\n",
    "print(int1)\n",
    "\n",
    "float1 = -10.1\n",
    "print(float1)  \n",
    "\n",
    "c1 = 1 + 0.678j\n",
    "print(c1) # c1 is a complex number\n",
    "\n",
    "print(3.25e-7j) \n",
    "\n",
    "print(-2e19) # -2e19 means -2*10^19\n",
    "\n"
   ]
  },
  {
   "cell_type": "code",
   "execution_count": 2,
   "id": "05634b32",
   "metadata": {},
   "outputs": [
    {
     "name": "stdout",
     "output_type": "stream",
     "text": [
      "Python is cool\n",
      "Python is cool\n",
      "Python is cool\n"
     ]
    }
   ],
   "source": [
    "#String\n",
    "#single quote, double quote, triple quote return the same string\n",
    "s1 = 'Python is cool' # this is a string variable \n",
    "print(s1)\n",
    "\n",
    "s1 = \"Python is cool\"\n",
    "print(s1)\n",
    "\n",
    "s1 = '''Python is cool'''\n",
    "print(s1)\n"
   ]
  },
  {
   "cell_type": "code",
   "execution_count": 3,
   "id": "f3990dc5",
   "metadata": {},
   "outputs": [
    {
     "name": "stdout",
     "output_type": "stream",
     "text": [
      "False\n",
      "True\n",
      "True\n"
     ]
    }
   ],
   "source": [
    "### Boolean\n",
    "\"\"\"\n",
    "The bool of non-trivial values will result in True and bool of trivial values will result in False.\n",
    "For integers, the trivial value is zero and non-trivial value is non-zero.\n",
    "\"\"\"\n",
    "\n",
    "print(bool(0))\n",
    "print(bool(100))\n",
    "print(bool(0.123))\n",
    "\n"
   ]
  },
  {
   "cell_type": "code",
   "execution_count": 4,
   "id": "c405e9be",
   "metadata": {},
   "outputs": [
    {
     "name": "stdout",
     "output_type": "stream",
     "text": [
      "False\n"
     ]
    }
   ],
   "source": [
    "print(bool(0.0)) #<- is 0.0 trivial or not? "
   ]
  },
  {
   "cell_type": "code",
   "execution_count": 5,
   "id": "b140f11d",
   "metadata": {},
   "outputs": [
    {
     "name": "stdout",
     "output_type": "stream",
     "text": [
      "False\n",
      "+++++++++++\n",
      "False\n"
     ]
    }
   ],
   "source": [
    "#Boolean of String\n",
    "#For String, the trivial value is an empty string and non-trivial value is non-empty string.\n",
    "print(bool(\"\"))\n",
    "print('+++++++++++')\n",
    "print(bool(''))\n"
   ]
  },
  {
   "cell_type": "code",
   "execution_count": 8,
   "id": "9d4f1f03",
   "metadata": {},
   "outputs": [
    {
     "name": "stdout",
     "output_type": "stream",
     "text": [
      "True\n",
      "++++++++++++\n",
      "True\n"
     ]
    }
   ],
   "source": [
    "print(bool(' ')) #<- is this an empty string? \n",
    "print('++++++++++++')\n",
    "print(bool(\"Zebra\"))"
   ]
  },
  {
   "cell_type": "code",
   "execution_count": 11,
   "id": "8997a756",
   "metadata": {},
   "outputs": [
    {
     "name": "stdout",
     "output_type": "stream",
     "text": [
      "True\n",
      "7.0\n"
     ]
    },
    {
     "ename": "TypeError",
     "evalue": "can only concatenate str (not \"int\") to str",
     "output_type": "error",
     "traceback": [
      "\u001b[1;31m---------------------------------------------------------------------------\u001b[0m",
      "\u001b[1;31mTypeError\u001b[0m                                 Traceback (most recent call last)",
      "Input \u001b[1;32mIn [11]\u001b[0m, in \u001b[0;36m<cell line: 9>\u001b[1;34m()\u001b[0m\n\u001b[0;32m      7\u001b[0m \u001b[38;5;28mprint\u001b[39m(\u001b[38;5;28mbool\u001b[39m(\u001b[38;5;241m5\u001b[39m\u001b[38;5;241m>\u001b[39m\u001b[38;5;241m1\u001b[39m))\n\u001b[0;32m      8\u001b[0m \u001b[38;5;28mprint\u001b[39m(\u001b[38;5;241m5.0\u001b[39m\u001b[38;5;241m+\u001b[39m\u001b[38;5;241m2\u001b[39m)\n\u001b[1;32m----> 9\u001b[0m \u001b[38;5;28mprint\u001b[39m(\u001b[38;5;124;43m\"\u001b[39;49m\u001b[38;5;124;43mPython\u001b[39;49m\u001b[38;5;124;43m\"\u001b[39;49m\u001b[38;5;241;43m+\u001b[39;49m\u001b[38;5;241;43m2\u001b[39;49m)\n",
      "\u001b[1;31mTypeError\u001b[0m: can only concatenate str (not \"int\") to str"
     ]
    }
   ],
   "source": [
    "\"\"\"\n",
    "Learning Activity 1: Compute the value of 5>1.\n",
    "Learning Activity 2: Print the value of 5.0+2. What do you observe? \n",
    "Learning Activity 3: Print the value of \"Python\"+2. What do you observe\n",
    "\n",
    "\"\"\"\n",
    "print(bool(5>1))\n",
    "print(5.0+2)\n",
    "print(\"Python\"+2)  #Python 只能str+str。str+int时，int不会自动转换。  "
   ]
  },
  {
   "cell_type": "code",
   "execution_count": 14,
   "id": "efc2d32c",
   "metadata": {},
   "outputs": [
    {
     "name": "stdout",
     "output_type": "stream",
     "text": [
      "True\n"
     ]
    }
   ],
   "source": [
    "print(5>1)"
   ]
  },
  {
   "cell_type": "code",
   "execution_count": 15,
   "id": "e32f7fa3",
   "metadata": {},
   "outputs": [
    {
     "name": "stdout",
     "output_type": "stream",
     "text": [
      "7.0\n"
     ]
    }
   ],
   "source": [
    "print(5.0+2.)"
   ]
  },
  {
   "cell_type": "code",
   "execution_count": 16,
   "id": "cbceca88",
   "metadata": {},
   "outputs": [
    {
     "ename": "TypeError",
     "evalue": "can only concatenate str (not \"int\") to str",
     "output_type": "error",
     "traceback": [
      "\u001b[0;31m---------------------------------------------------------------------------\u001b[0m",
      "\u001b[0;31mTypeError\u001b[0m                                 Traceback (most recent call last)",
      "\u001b[0;32m<ipython-input-16-3912e41ed377>\u001b[0m in \u001b[0;36m<module>\u001b[0;34m\u001b[0m\n\u001b[0;32m----> 1\u001b[0;31m \u001b[0mprint\u001b[0m\u001b[0;34m(\u001b[0m\u001b[0;34m\"Python\"\u001b[0m\u001b[0;34m+\u001b[0m\u001b[0;36m2\u001b[0m\u001b[0;34m)\u001b[0m\u001b[0;34m\u001b[0m\u001b[0;34m\u001b[0m\u001b[0m\n\u001b[0m",
      "\u001b[0;31mTypeError\u001b[0m: can only concatenate str (not \"int\") to str"
     ]
    }
   ],
   "source": [
    "print(\"Python\"+2)"
   ]
  },
  {
   "cell_type": "markdown",
   "id": "17862739",
   "metadata": {},
   "source": [
    "## Type Function and Convert Type\n"
   ]
  },
  {
   "cell_type": "code",
   "execution_count": 12,
   "id": "e4ea40cf",
   "metadata": {},
   "outputs": [
    {
     "name": "stdout",
     "output_type": "stream",
     "text": [
      "10 <class 'int'>\n",
      "++++++++++++++\n",
      "10.1 <class 'float'>\n"
     ]
    }
   ],
   "source": [
    "b = 10 # b is a variable that contains integer value. \n",
    "print(b, type(b))\n",
    "print('++++++++++++++')\n",
    "b = 10.1 # here b takes a new value that is float\n",
    "print(b, type(b))\n"
   ]
  },
  {
   "cell_type": "code",
   "execution_count": 13,
   "id": "938610a6",
   "metadata": {},
   "outputs": [
    {
     "name": "stdout",
     "output_type": "stream",
     "text": [
      "5 5.0 7\n",
      "<class 'int'> <class 'float'> <class 'int'>\n"
     ]
    }
   ],
   "source": [
    "a = 5\n",
    "b = float(a) #convert interger to float\n",
    "c = int(b+2) #convert float to integer\n",
    "print(a, b, c)\n",
    "print(type(a),type(b),type(c))"
   ]
  },
  {
   "cell_type": "code",
   "execution_count": 14,
   "id": "cd78c069",
   "metadata": {},
   "outputs": [
    {
     "name": "stdout",
     "output_type": "stream",
     "text": [
      "14 14.0\n",
      "-----\n",
      "<class 'str'>\n",
      "<class 'int'>\n"
     ]
    }
   ],
   "source": [
    "\n",
    "A = '14'\n",
    "B = int(A) # convert character format number to integer\n",
    "C = float(A) # convert integer to float\n",
    "print(B, C)\n",
    "\n",
    "print('-----')\n",
    "print(type(A))\n",
    "print(type(B))"
   ]
  },
  {
   "cell_type": "markdown",
   "id": "bb4a94b1",
   "metadata": {},
   "source": [
    "comments: The type() function also return the class type of the data."
   ]
  },
  {
   "cell_type": "code",
   "execution_count": 16,
   "id": "9d7cbc59",
   "metadata": {},
   "outputs": [
    {
     "name": "stdout",
     "output_type": "stream",
     "text": [
      "14.0 <class 'float'>\n",
      "14.0 <class 'str'>\n"
     ]
    }
   ],
   "source": [
    "\"\"\"\n",
    "Learning Activity 4: If D = '14', convert D to float and print that value and its type.\n",
    "\n",
    "\"\"\"\n",
    "D = '14'\n",
    "E = float(D)\n",
    "F = str(E)\n",
    "print(E, type(E))\n",
    "print(F, type(F))"
   ]
  },
  {
   "cell_type": "code",
   "execution_count": 17,
   "id": "7f7ca39e",
   "metadata": {},
   "outputs": [
    {
     "name": "stdout",
     "output_type": "stream",
     "text": [
      "None\n",
      "<class 'NoneType'>\n",
      "++++++++\n",
      "<class 'str'>\n"
     ]
    }
   ],
   "source": [
    "#None is a special data type that is used to represent a no value. It is similar in idea to null or nil in other languages.\n",
    "\n",
    "a = None\n",
    "print(a)\n",
    "print(type(a))\n",
    "\n",
    "print('++++++++')\n",
    "b=''\n",
    "print(type(b))   #empty string's type is still 'str'\n"
   ]
  },
  {
   "cell_type": "code",
   "execution_count": 6,
   "id": "cc87cb2d",
   "metadata": {},
   "outputs": [
    {
     "name": "stdout",
     "output_type": "stream",
     "text": [
      "True\n"
     ]
    }
   ],
   "source": [
    "c = None\n",
    "print (a is c)"
   ]
  },
  {
   "cell_type": "markdown",
   "id": "ca5b9ffe",
   "metadata": {},
   "source": [
    "## Operators"
   ]
  },
  {
   "cell_type": "markdown",
   "id": "659c15f5",
   "metadata": {},
   "source": [
    "Arithmetic Operators \n",
    "#### + ,-,  *,   /,  % (Modulus),  //(Floor Division), **(Exponent)\n",
    "\n",
    "Comparison (Relational) Operators \n",
    "####  == ,  != ,  < ,  > ,  <= ,   >= \n",
    "\n",
    "Assignment Operators  \n",
    "#### +=, -+, *=, /=, %=, //=,  **=\n",
    "\n",
    "Logical (Boolean) Operators\n",
    "#### and, or , not\n",
    "\n",
    "Membership Operators\n",
    "####  in, not in\n",
    "\n",
    "Identity Operators\n",
    "####  is , is not\n"
   ]
  },
  {
   "cell_type": "code",
   "execution_count": 18,
   "id": "42f1bee1",
   "metadata": {},
   "outputs": [
    {
     "name": "stdout",
     "output_type": "stream",
     "text": [
      "9\n"
     ]
    }
   ],
   "source": [
    "c=7\n",
    "c+=2 #c=c+2\n",
    "print(c)"
   ]
  },
  {
   "cell_type": "code",
   "execution_count": 19,
   "id": "4141bd07",
   "metadata": {},
   "outputs": [
    {
     "name": "stdout",
     "output_type": "stream",
     "text": [
      "14\n"
     ]
    }
   ],
   "source": [
    "c=7\n",
    "c*=2 #c=c*2\n",
    "print(c)"
   ]
  },
  {
   "cell_type": "code",
   "execution_count": 29,
   "id": "ed162d36",
   "metadata": {},
   "outputs": [
    {
     "name": "stdout",
     "output_type": "stream",
     "text": [
      "False\n",
      "ID of x is: 2766655875472\n",
      "ID of y is: 2766655875504\n"
     ]
    }
   ],
   "source": [
    "#Identity operator returns a unique number for the lifetime of an object.,the number is unique for a particular \n",
    "#kernel. It means, there is no guarantee that id of an object will be same if we restart the kernel.\n",
    "\n",
    "x = 4\n",
    "y = 5\n",
    "print(x is y) # 'is'\n",
    "print(\"ID of x is:\", id(x)) \n",
    "print(\"ID of y is:\", id(y))\n",
    "\n"
   ]
  },
  {
   "cell_type": "code",
   "execution_count": 28,
   "id": "2f7e0098",
   "metadata": {},
   "outputs": [
    {
     "name": "stdout",
     "output_type": "stream",
     "text": [
      "True\n",
      "ID of a is: 2766655875568\n",
      "ID of b is: 2766655875472\n"
     ]
    }
   ],
   "source": [
    "#is: Returns True if operands point to the same memory location\n",
    "\n",
    "a = 7 \n",
    "b = 4\n",
    "print(a is not b) \n",
    "print(\"ID of a is:\", id(a))\n",
    "print(\"ID of b is:\", id(b))\n"
   ]
  },
  {
   "cell_type": "code",
   "execution_count": 31,
   "id": "f0f253f8",
   "metadata": {},
   "outputs": [
    {
     "data": {
      "text/plain": [
       "'In class activity: do you see any pair of varibles have same id ? '"
      ]
     },
     "execution_count": 31,
     "metadata": {},
     "output_type": "execute_result"
    }
   ],
   "source": [
    "\"\"\"In class activity: do you see any pair of varibles have same id ? \"\"\""
   ]
  },
  {
   "cell_type": "code",
   "execution_count": 28,
   "id": "599a7db4",
   "metadata": {},
   "outputs": [
    {
     "name": "stdout",
     "output_type": "stream",
     "text": [
      "True\n",
      "ID of a is: 140718295772656\n",
      "ID of b is: 140718295772656\n"
     ]
    }
   ],
   "source": [
    "#is: Returns True if operands point to the same memory location\n",
    "a = \"Apple\" \n",
    "b = a\n",
    "print(a is b)\n",
    "print(\"ID of a is:\", id(a))\n",
    "print(\"ID of b is:\", id(b))\n"
   ]
  },
  {
   "cell_type": "markdown",
   "id": "6caeddb8",
   "metadata": {},
   "source": [
    "## Data Structure"
   ]
  },
  {
   "cell_type": "code",
   "execution_count": 33,
   "id": "60270705",
   "metadata": {},
   "outputs": [
    {
     "name": "stdout",
     "output_type": "stream",
     "text": [
      "number of elements is: 3\n",
      "+++++++++++++++++++++++++++++++++++++\n",
      "We are printing one element at a time: apricot\n",
      "We are printing one element at a time: banana\n",
      "We are printing one element at a time: grapes\n",
      "the max and min are:  7 4\n"
     ]
    }
   ],
   "source": [
    "#List, an ordered sequence of objects. Elements in the list can be any Python objects. They are mutable.\n",
    "#Mutable data structures can be modified, that means, elements can be added to them or elements can be removed.\n",
    "\n",
    "\n",
    "A = [4, 7, 5]\n",
    "print('number of elements is:', len(A))\n",
    "print('+++++++++++++++++++++++++++++++++++++') \n",
    "\n",
    "goodFruits = ['apricot', 'banana', 'grapes']\n",
    "for gf in goodFruits:\n",
    "    print('We are printing one element at a time:', gf)\n",
    "    \n",
    "\n",
    "# print('+++++++++++++++++++++++++++++++++++++') \n",
    "\n",
    "A = [4, 7, 5]\n",
    "print('the max and min are: ', max(A), min(A))\n",
    "\n"
   ]
  },
  {
   "cell_type": "code",
   "execution_count": 35,
   "id": "7eda6fe7",
   "metadata": {},
   "outputs": [
    {
     "name": "stdout",
     "output_type": "stream",
     "text": [
      "[4, 7, -3, 5]\n",
      "[4, -3, 5]\n",
      "7\n",
      "[4, -3]\n",
      "[4]\n",
      "[4, 3.14]\n",
      "[4, 3.14, [-6, -7]]\n",
      "[4, 3.14, [-6, -7], -9, -8]\n"
     ]
    }
   ],
   "source": [
    "#commonly used list methods\n",
    "#index starts from 0\n",
    "#insert(i,v), Will insert item v at index i.\n",
    "A = [4, 7, 5]\n",
    "A.insert(2, -3) \n",
    "print(A)\n",
    "\n",
    "#pop([i]), Will remove and return the item at index i.If no index is provided, the LAST item will be removed and returned.\n",
    "B = A.pop(1) # will pop 7 that is located at index 1\n",
    "print(A)\n",
    "print(B)\n",
    "\n",
    "A.pop() #if no index was provided, which element will be removed ? \n",
    "print(A)\n",
    "\n",
    "A.remove(-3) # will remove -3 from the list A\n",
    "print(A)\n",
    "\n",
    "A.append(3.14) # 3.14 will get appended to A\n",
    "print(A)\n",
    "\n",
    "A.append([-6, -7]) # list [-6, -7] will be appended to A\n",
    "print(A)\n",
    "\n",
    "A.extend([-9,-8]) # values -9 and -8 will be appended to A, extend of a list separates each element and adds them to the end of the list.\n",
    "print(A)\n",
    "\n"
   ]
  },
  {
   "cell_type": "code",
   "execution_count": 5,
   "id": "c5b3b30b",
   "metadata": {},
   "outputs": [
    {
     "name": "stdout",
     "output_type": "stream",
     "text": [
      "[3.14]\n",
      "[3.14, 3.14]\n",
      "[3.14, 3.14, 3.14]\n",
      "[3.14, 3.14, 3.14, 3.14]\n",
      "[3.14, 3.14, 3.14, 3.14, 3.14]\n"
     ]
    }
   ],
   "source": [
    "A = []\n",
    "for t in range(0,5):   #t=0; t<5; t++\n",
    "    A.append(3.14)\n",
    "    print(A)"
   ]
  },
  {
   "cell_type": "code",
   "execution_count": 36,
   "id": "907de20e",
   "metadata": {},
   "outputs": [
    {
     "name": "stdout",
     "output_type": "stream",
     "text": [
      "<class 'list'>\n"
     ]
    }
   ],
   "source": [
    "A = [4, 7, 5]\n",
    "print(type(A))"
   ]
  },
  {
   "cell_type": "code",
   "execution_count": 40,
   "id": "3ad9ee55",
   "metadata": {},
   "outputs": [
    {
     "name": "stdout",
     "output_type": "stream",
     "text": [
      "[1, 3, 4, 5, 7] None\n",
      "[[2, 9], [5, 7]]\n",
      "[[5, 4], [5, 7]]\n"
     ]
    }
   ],
   "source": [
    "#List, sort method\n",
    "#that sort is inline and it replaces the original list with the sorted list. Hence, it does not have to return a new list.\n",
    "\n",
    "A = [1, 5, 4, 7, 3]\n",
    "sortout = A.sort()\n",
    "print(A, sortout)\n",
    "\n",
    "#sort() will sort with respect to the value at the zero index\n",
    "lista = [[5, 7], [2, 9]] \n",
    "lista.sort()\n",
    "print(lista)\n",
    "\n",
    "listb = [[5, 7], [5,4]]  #<-what if zeron index tie, which inner list will be first ? \n",
    "listb.sort()\n",
    "print(listb)\n",
    "\n",
    "\n"
   ]
  },
  {
   "cell_type": "code",
   "execution_count": 15,
   "id": "475267d1",
   "metadata": {},
   "outputs": [
    {
     "name": "stdout",
     "output_type": "stream",
     "text": [
      "[-10, -9, 9, 10]\n"
     ]
    }
   ],
   "source": [
    "#List concatenation using '+' sign\n",
    "list1 = [-10, -9]\n",
    "list2 = [9, 10]\n",
    "list3 = list1 + list2\n",
    "print(list3)"
   ]
  },
  {
   "cell_type": "code",
   "execution_count": 41,
   "id": "3e11f8ff",
   "metadata": {},
   "outputs": [
    {
     "name": "stdout",
     "output_type": "stream",
     "text": [
      "[12, 14, 16, 19, 20, 24]\n",
      "[12, 14, 16, 18, 19, 20, 24]\n",
      "[12, 14, 16, 18, 20, 24]\n",
      "[12, 14, 16, 18, 20, 24, 28, 30]\n"
     ]
    }
   ],
   "source": [
    "\"\"\"\n",
    "\n",
    "Learning Activity 1:  Consider listA = [12, 14, 16, 19, 20, 24].\n",
    "1) To listA, add 18 at index 3. \n",
    "2) From the list that was obtained from #1, remove 19. \n",
    "3) To the list that was obtained from #2, \n",
    "extend with the list [28, 30]. Print the output after each case.\n",
    "\n",
    "\"\"\"\n",
    "A = [12, 14, 16, 19, 20, 24]\n",
    "print(A)\n",
    "A.insert(3, 18)\n",
    "print(A)\n",
    "A.remove(19)\n",
    "print(A)\n",
    "A.extend([28, 30])\n",
    "print(A)"
   ]
  },
  {
   "cell_type": "code",
   "execution_count": 42,
   "id": "6a87a99f",
   "metadata": {},
   "outputs": [
    {
     "name": "stdout",
     "output_type": "stream",
     "text": [
      "[81, 4, 25]\n",
      "[81, 4, 25]\n"
     ]
    }
   ],
   "source": [
    "#list comprehensions provide an efficient and elegant way to create lists from a list or other iterable object.\n",
    "#It is faster compared to looping through each element in the list. It also provides a very succinct syntax making \n",
    "#the code readable. It can also prevent modifying the existing list in the process of creating a new list and hence \n",
    "#makes the code “functional”.\n",
    "\n",
    "list1 = [-9, 2, 5]\n",
    "list2 = []\n",
    "for x in list1:\n",
    "    list2.append(x*x)\n",
    "print(list2)\n",
    "\n",
    "#three lines of code can be replaced with the one-line of list comprehension as shown below.\n",
    "list1 = [-9, 2, 5]\n",
    "list2 = [x*x for x in list1] #list comprehension\n",
    "print(list2)\n",
    "\n"
   ]
  },
  {
   "cell_type": "code",
   "execution_count": 43,
   "id": "329c7446",
   "metadata": {},
   "outputs": [
    {
     "name": "stdout",
     "output_type": "stream",
     "text": [
      "one <class 'str'>\n",
      "-------\n",
      "('one',) <class 'tuple'>\n",
      "13\n",
      "-------\n",
      "19\n",
      "+++++++ Try to aler element of Tuple2, and get TypeError +++++++\n"
     ]
    },
    {
     "ename": "TypeError",
     "evalue": "'tuple' object does not support item assignment",
     "output_type": "error",
     "traceback": [
      "\u001b[1;31m---------------------------------------------------------------------------\u001b[0m",
      "\u001b[1;31mTypeError\u001b[0m                                 Traceback (most recent call last)",
      "Input \u001b[1;32mIn [43]\u001b[0m, in \u001b[0;36m<cell line: 19>\u001b[1;34m()\u001b[0m\n\u001b[0;32m     16\u001b[0m \u001b[38;5;28mprint\u001b[39m(tuple2[\u001b[38;5;241m1\u001b[39m]) \u001b[38;5;66;03m# accessing the second element in tuple2\u001b[39;00m\n\u001b[0;32m     18\u001b[0m \u001b[38;5;28mprint\u001b[39m(\u001b[38;5;124m'\u001b[39m\u001b[38;5;124m+++++++ Try to aler element of Tuple2, and get TypeError +++++++\u001b[39m\u001b[38;5;124m'\u001b[39m)\n\u001b[1;32m---> 19\u001b[0m tuple2[\u001b[38;5;241m1\u001b[39m] \u001b[38;5;241m=\u001b[39m \u001b[38;5;241m29\u001b[39m\n",
      "\u001b[1;31mTypeError\u001b[0m: 'tuple' object does not support item assignment"
     ]
    }
   ],
   "source": [
    "#Tuple,an ordered sequence of objects. Elements in the tuple can be any Python objects. Tuples are immutable. \n",
    "#So, the elements of a tuple cannot be modified after they have been created.\n",
    "#It is mandatory to have a comma at the end for tuples with one element. However, it is optional when there is more \n",
    "#than one element.\n",
    "\n",
    "\n",
    "tuple1 = ('one')\n",
    "print(tuple1, type(tuple1))\n",
    "print('-------')\n",
    "tuple1 = ('one',)  #<--see the additional comma\n",
    "print(tuple1, type(tuple1))\n",
    "\n",
    "tuple2 = (13, 19, 25,) \n",
    "print(tuple2[0]) # accessing the first element in tuple2\n",
    "print('-------')\n",
    "print(tuple2[1]) # accessing the second element in tuple2\n",
    "\n",
    "print('+++++++ Try to aler element of Tuple2, and get TypeError +++++++')\n",
    "tuple2[1] = 29\n",
    "\n",
    "\n"
   ]
  },
  {
   "cell_type": "code",
   "execution_count": 45,
   "id": "915e310f",
   "metadata": {},
   "outputs": [
    {
     "name": "stdout",
     "output_type": "stream",
     "text": [
      "<class 'tuple'>\n",
      "<class 'list'>\n",
      "<class 'list'>\n",
      "<class 'tuple'>\n"
     ]
    }
   ],
   "source": [
    "#are they tuple or list? \n",
    "a = (13, 19, 25, 27) \n",
    "print(type(a))\n",
    "b = [13, 19, 25, 27]\n",
    "print(type(b))\n",
    "c =[13, 19, 25, 27,]\n",
    "print(type(c))\n",
    "d = (13, 19, 25, 27,) \n",
    "print(type(d))"
   ]
  },
  {
   "cell_type": "code",
   "execution_count": 46,
   "id": "6ef87cec",
   "metadata": {},
   "outputs": [
    {
     "name": "stdout",
     "output_type": "stream",
     "text": [
      "13\n",
      "19\n",
      "25\n"
     ]
    }
   ],
   "source": [
    "for t in tuple2:\n",
    "    print(t)"
   ]
  },
  {
   "cell_type": "code",
   "execution_count": 47,
   "id": "faa60d54",
   "metadata": {},
   "outputs": [
    {
     "name": "stdout",
     "output_type": "stream",
     "text": [
      "(('the good', 'the bad', 'the ugly'), ('Clint Eastwood',))\n",
      "('the good', 'the bad', 'the ugly', 'Clint Eastwood')\n",
      "<class 'tuple'>\n"
     ]
    }
   ],
   "source": [
    "#create tuple of tuple\n",
    "t1 = ('the good', 'the bad', 'the ugly',)\n",
    "t2 = ('Clint Eastwood',)\n",
    "t3 = (t1, t2)\n",
    "print(t3)\n",
    "\n",
    "\n",
    "#Concatenation of the tuples can be done by using '+' operator.\n",
    "t1 = ('the good', 'the bad', 'the ugly')\n",
    "t2 = ('Clint Eastwood',)\n",
    "t5 = t1 + t2\n",
    "print(t5)\n",
    "print(type(t5))\n"
   ]
  },
  {
   "cell_type": "code",
   "execution_count": 49,
   "id": "abc8f1c2",
   "metadata": {},
   "outputs": [
    {
     "name": "stdout",
     "output_type": "stream",
     "text": [
      "['the good', 'the bad', 'the ugly', 'Clint Eastwood'] <class 'list'>\n",
      "('bad', 'okay', 'excellent') <class 'tuple'>\n"
     ]
    }
   ],
   "source": [
    "#convert tuple to list\n",
    "tuple_to_list = list(t5)\n",
    "print(tuple_to_list, type(tuple_to_list))\n",
    "\n",
    "#convert list to tuple\n",
    "list_ratings = ['bad', 'okay', 'excellent']\n",
    "list_to_tuple = tuple(list_ratings)\n",
    "print(list_to_tuple, type(list_to_tuple))\n"
   ]
  },
  {
   "cell_type": "code",
   "execution_count": 50,
   "id": "81e2417e",
   "metadata": {},
   "outputs": [
    {
     "name": "stdout",
     "output_type": "stream",
     "text": [
      "{'b': 'ice', 'c': 'steam', 'a': 'water'}\n",
      "{'a': 'mango', 'b': 'pear'}\n",
      "{'San Francisco': 72, 'New York': 51}\n",
      "{'San Francisco': 72, 'New York': 51, 'Austin': 80}\n",
      "dict_keys(['San Francisco', 'New York', 'Austin'])\n",
      "dict_values([72, 51, 80])\n",
      "++++++++++++++++++++++++++\n",
      "San Francisco 72\n",
      "New York 51\n",
      "Austin 80\n",
      "++++++++++++++++++++++++++\n",
      "San Francisco 72\n",
      "New York 51\n",
      "Austin 80\n"
     ]
    }
   ],
   "source": [
    "#Dictionary,is a sequence of key and value pairs. Dictionary is mutable as new key-values can be added and existing\n",
    "#key-values can be modified. In a dictionary, the keys have to be immutable.\n",
    "\n",
    "#use curly brace to define dictionary\n",
    "D1 = {'b': 'ice', 'c': 'steam', 'a': 'water'}\n",
    "print(D1)\n",
    "\n",
    "#use dict() function to define dictionary\n",
    "any_fruit = dict(a='mango', b='pear')\n",
    "print(any_fruit)\n",
    "\n",
    "city_temp = {'San Francisco': 72, 'New York': 51}\n",
    "print(city_temp)\n",
    "\n",
    "\n",
    "city_temp['Austin'] = 80\n",
    "print(city_temp)\n",
    "\n",
    "print(city_temp.keys())\n",
    "\n",
    "print(city_temp.values())\n",
    "\n",
    "print('++++++++++++++++++++++++++')\n",
    "for key in city_temp:\n",
    "    print(key, city_temp[key]) #print one key and its corresponding value.\n",
    "    \n",
    "print('++++++++++++++++++++++++++')    \n",
    "for key,value in city_temp.items():  #access the contents of a dictionary as an iterable object using the items() method.\n",
    "    print(key, value)\n",
    "\n"
   ]
  },
  {
   "cell_type": "code",
   "execution_count": 54,
   "id": "9815e713",
   "metadata": {},
   "outputs": [
    {
     "name": "stdout",
     "output_type": "stream",
     "text": [
      "{-9: -729, 10: 1000, 14: 2744}\n",
      "-------\n",
      "{0: 0, 1: 1, 2: 8, 3: 27, 4: 64, 5: 125, 6: 216, 7: 343, 8: 512, 9: 729}\n",
      "-------\n",
      "{1: 1, 3: 27, 5: 125, 7: 343, 9: 729, 11: 1331, 13: 2197, 15: 3375, 17: 4913, 19: 6859}\n"
     ]
    }
   ],
   "source": [
    "#Dictionary Comprehension\n",
    "list1 = [-9, 10, 14]\n",
    "cubed = {x: x**3 for x in list1}\n",
    "print(cubed)\n",
    "\n",
    "print('-------')\n",
    "rangeiter = range(10)\n",
    "cubed = {x: x**3 for x in rangeiter}\n",
    "print(cubed)\n",
    "\n",
    "print('-------')\n",
    "rangeiter = range(20)\n",
    "cubed = {x: x**3 for x in rangeiter if x%2==1}\n",
    "print(cubed)\n",
    "\n"
   ]
  },
  {
   "cell_type": "code",
   "execution_count": null,
   "id": "f01e6545",
   "metadata": {},
   "outputs": [],
   "source": []
  },
  {
   "cell_type": "code",
   "execution_count": 56,
   "id": "48e07687",
   "metadata": {},
   "outputs": [
    {
     "name": "stdout",
     "output_type": "stream",
     "text": [
      "{'France': 1789, 'India': 1947, 'USA': 1776, 'Brazil': 1822}\n",
      "{'apples': 25, 'bananas': 76, 'kiwi': 56}\n"
     ]
    }
   ],
   "source": [
    "\"\"\"\n",
    "Learning Activity 6: Define a dictionary with the following key value pairs: 'France': 1789, 'India': 1947, 'USA': 1776, 'Brazil': 1822 \\\n",
    "Learning Activity 7: Given D2 = {'apples':25, 'bananas': 76}, then add {'kiwi': 56} to D2.\n",
    "\n",
    "\"\"\"\n",
    "D1 = {'France': 1789, 'India': 1947, 'USA': 1776, 'Brazil': 1822}\n",
    "print(D1)\n",
    "D2 = {'apples':25, 'bananas': 76} \n",
    "D2['kiwi'] = 56\n",
    "print(D2)\n"
   ]
  },
  {
   "cell_type": "markdown",
   "id": "b99defd0",
   "metadata": {},
   "source": [
    "## Basic Statements"
   ]
  },
  {
   "cell_type": "code",
   "execution_count": 1,
   "id": "93ae5c59",
   "metadata": {},
   "outputs": [
    {
     "name": "stdout",
     "output_type": "stream",
     "text": [
      "Please enter a number: 8\n",
      "You chose a number less than 50.\n"
     ]
    }
   ],
   "source": [
    "#If-else\n",
    "x = int(input(\"Please enter a number: \"))\n",
    "if x < 50:\n",
    "    print(\"You chose a number less than 50.\")\n",
    "elif x > 50 and x < 100:\n",
    "    print(\"You chose a number that is between 50 and 100.\")\n",
    "else:\n",
    "    print (\"You chose a number greater than 100.\")\n"
   ]
  },
  {
   "cell_type": "code",
   "execution_count": 3,
   "id": "b1f12605",
   "metadata": {},
   "outputs": [
    {
     "name": "stdout",
     "output_type": "stream",
     "text": [
      "range(0, 5)\n",
      "[0, 1, 2, 3, 4]\n",
      "+++++++++++++++++++++\n",
      "range(2, 9)\n",
      "[2, 3, 4, 5, 6, 7, 8]\n",
      "+++++++++++++++++++++\n",
      "range(2, 9, 3)\n",
      "range(3, -3, -2)\n"
     ]
    }
   ],
   "source": [
    "#Range\n",
    "\n",
    "a = range(5) \n",
    "print(a)\n",
    "print(list(a))\n",
    "print('+++++++++++++++++++++')\n",
    "print(range(2, 9))\n",
    "b=range(2,9)\n",
    "print(list(b))\n",
    "print('+++++++++++++++++++++')\n",
    "print(range(2, 9, 3))\n",
    "print(range(3, -3, -2))\n",
    "\n"
   ]
  },
  {
   "cell_type": "code",
   "execution_count": 33,
   "id": "9bd78732",
   "metadata": {},
   "outputs": [
    {
     "name": "stdout",
     "output_type": "stream",
     "text": [
      "0\n",
      "1\n",
      "2\n",
      "3\n",
      "4\n",
      "+++++++++++++++++++++\n",
      "2\n",
      "3\n",
      "4\n",
      "5\n",
      "6\n",
      "7\n",
      "8\n",
      "+++++++++break statement ++++++++++++\n",
      "1 is not 5!\n",
      "2 is not 5!\n",
      "3 is not 5!\n",
      "4 is not 5!\n",
      "5\n",
      "+++++++++continue statement ++++++++++++\n",
      "22 is not a multiple of 6\n",
      "23 is not a multiple of 6\n",
      "25 is not a multiple of 6\n",
      "26 is not a multiple of 6\n",
      "27 is not a multiple of 6\n",
      "28 is not a multiple of 6\n",
      "29 is not a multiple of 6\n",
      "+++++++++pass statement ++++++++++++\n"
     ]
    }
   ],
   "source": [
    "#for loop \n",
    "arange = range(5)\n",
    "for i in arange:\n",
    "    print(i)\n",
    "\n",
    "print('+++++++++++++++++++++')   \n",
    "\n",
    "arange = range(2,9)\n",
    "for j in arange:\n",
    "    print(j)\n",
    "\n",
    "print('+++++++++break statement ++++++++++++')   \n",
    "\n",
    "#break,terminates the loop and transfers the execution to the statement after the loop.\n",
    "#note: there is not '6 is not 5!' \n",
    "b = range(1, 9)\n",
    "for i in b:\n",
    "    if i%5 == 0:\n",
    "        print(i)\n",
    "        break\n",
    "    else:\n",
    "        print(i, \"is not 5!\")\n",
    "        \n",
    "print('+++++++++continue statement ++++++++++++')   \n",
    "        \n",
    "#continue, suspends execution of remaining statements in the loop and goes back to the next loop iteration.\n",
    "for n in range(22, 30):\n",
    "    if n%6 == 0:\n",
    "        continue\n",
    "    print(n, \"is not a multiple of 6\")\n",
    "\n",
    "print('+++++++++pass statement ++++++++++++')   \n",
    "#pass,This statement does nothing. The control goes to the next line. \n",
    "for item in range(3):\n",
    "    pass\n",
    "\n",
    "\n"
   ]
  },
  {
   "cell_type": "code",
   "execution_count": 12,
   "id": "6b76ae00",
   "metadata": {},
   "outputs": [
    {
     "name": "stdout",
     "output_type": "stream",
     "text": [
      "1+++++++++++++++++++++\n",
      "-6\n",
      "2+++++++++++++++++++++\n",
      "Please enter a year: 2000\n",
      "You are right.\n",
      "3+++++++++++++++++++++\n",
      "-8 is the multiples of 4.\n",
      "-4 is the multiples of 4.\n",
      "0 is the multiples of 4.\n",
      "4 is the multiples of 4.\n",
      "8 is the multiples of 4.\n",
      "4+++++++++++++++++++++\n",
      "-8 is the first multiples of 4.\n"
     ]
    }
   ],
   "source": [
    "\"\"\"\n",
    "In Class activities:\n",
    "Learning Activity 1: If nlist = [12, 4, -6, 8, -20, 10]. Iterate through the list, stop when you hit the first negative value.\n",
    "Learning Activity 2: Ask the user to input a year and if the input is the string '2000', then print \"You are right.\" If user enters any other year, prompt the user to enter the correct year. \n",
    "Learning Activity 3: Create a list that starts with -10 and goes all the way up to 10 (inclusive). Find all the multiples of 4. \n",
    "Learning Activity 4: Create a list that starts with -10 and goes all the way up to 10 (inclusive). Then find the first multiple of 4.\n",
    "\n",
    "\"\"\"\n",
    "#1\n",
    "print('1+++++++++++++++++++++')   \n",
    "nlist = [12, 4, -6, 8, -20, 10]\n",
    "for i in nlist:\n",
    "    if(i<0):\n",
    "        print(i, \"is the first negative value.\")\n",
    "        break\n",
    "    else:\n",
    "        continue\n",
    "#2\n",
    "print('2+++++++++++++++++++++')   \n",
    "y = str(input(\"Please enter a year: \"))\n",
    "if(y == \"2000\"):\n",
    "    print(\"You are right.\")\n",
    "else:\n",
    "    print(\"Run it again! To enter the correct year.\")\n",
    "\n",
    "#3\n",
    "print('3+++++++++++++++++++++')   \n",
    "nlist3 = range(-10, 11)\n",
    "for i in nlist3:\n",
    "    if(i%4==0):\n",
    "        print(i, \"is the multiples of 4.\")\n",
    "    else:\n",
    "        continue\n",
    "\n",
    "#4\n",
    "print('4+++++++++++++++++++++')   \n",
    "nlist4 = range(-10, 11)\n",
    "for i in nlist3:\n",
    "    if(i%4==0):\n",
    "        print(i, \"is the first multiples of 4.\")\n",
    "        break\n",
    "    else:\n",
    "        continue\n"
   ]
  },
  {
   "cell_type": "code",
   "execution_count": 14,
   "id": "0fddfeff",
   "metadata": {},
   "outputs": [
    {
     "name": "stdout",
     "output_type": "stream",
     "text": [
      "The value of n is:  5\n",
      "The value of n is:  4\n",
      "The value of n is:  3\n",
      "The value of n is:  2\n",
      "The value of n is:  1\n",
      "---------------------\n",
      "4\n",
      "I am out of while loop\n",
      "4\n"
     ]
    }
   ],
   "source": [
    "#While Loop\n",
    "n = 5\n",
    "while (n > 0):\n",
    "    print(\"The value of n is: \", n)\n",
    "    n -= 1 # n = n-1\n",
    "\n",
    "print('---------------------')    \n",
    "\n",
    "#We can of course replace the comparison statement with True in the while statement and that would guarantee that \n",
    "#the while condition is always true, making the loop run infinite times. To exit this loop, we need to have a break\n",
    "#statement inside the while-block\n",
    "\n",
    "n = 0\n",
    "while True:\n",
    "    if n == 4:\n",
    "        print(n)\n",
    "        break\n",
    "    n += 1\n",
    "    \n",
    "print(\"I am out of while loop\")\n",
    "print(n)\n",
    "   \n"
   ]
  },
  {
   "cell_type": "code",
   "execution_count": 15,
   "id": "5b1b77e2",
   "metadata": {},
   "outputs": [
    {
     "name": "stdout",
     "output_type": "stream",
     "text": [
      "+++++++scenario 1 +++++++++++++++++++++\n",
      "We found an Orange!\n",
      "+++++++scenario 2 +++++++++++++++++++++\n",
      "We didn't find Orange!\n"
     ]
    }
   ],
   "source": [
    "#for else \n",
    "print('+++++++scenario 1 +++++++++++++++++++++')\n",
    "\n",
    "list1 = [\"Apple\", \"Orange\", \"Apricot\"]\n",
    "for item in list1:\n",
    "    if item == \"Orange\":\n",
    "        print(\"We found an Orange!\")\n",
    "        break\n",
    "else:\n",
    "    print(\"We didn't find Orange!\")\n",
    "    \n",
    "    \n",
    "print('+++++++scenario 2 +++++++++++++++++++++')\n",
    "\n",
    "list2 = [\"Apple\", \"Kiwi\", \"Apricot\"]\n",
    "for item in list2:\n",
    "    if item == \"Orange\":\n",
    "        print(\"We found an Orange!\")\n",
    "        break\n",
    "else:\n",
    "    print(\"We didn't find Orange!\")\n",
    "\n",
    "\n"
   ]
  },
  {
   "cell_type": "code",
   "execution_count": 16,
   "id": "5d75191e",
   "metadata": {},
   "outputs": [
    {
     "name": "stdout",
     "output_type": "stream",
     "text": [
      "The while condition is False!\n"
     ]
    }
   ],
   "source": [
    "#while else\n",
    "\"\"\"\n",
    "while-else construct will get executed when the while condition is False.In the code below, notice\n",
    "that since the while condition is False, the else clause gets executed.\n",
    "\"\"\"\n",
    "n = 5\n",
    "while False:\n",
    "    if n == 4:\n",
    "        print(n)\n",
    "        break \n",
    "    n -= 1\n",
    "else:\n",
    "    print(\"The while condition is False!\")\n"
   ]
  },
  {
   "cell_type": "code",
   "execution_count": 21,
   "id": "d2f10e8a",
   "metadata": {},
   "outputs": [
    {
     "name": "stdout",
     "output_type": "stream",
     "text": [
      "The value of 5 power 2 is 25\n",
      "The value of 5 power 2 is 25\n",
      "++++++++++++++\n",
      "The length is 3\n"
     ]
    }
   ],
   "source": [
    "# f string\n",
    "\"\"\"\n",
    "The f-strings have f at the beginning of the string. Any value or expression that needs to substituted must \n",
    "be placed inside curly braces.\n",
    "\n",
    "f-string is very useful in industry, especially in data model, when we need to create different datasets using \n",
    "the same code many times, we can simply just change the input string\n",
    "\n",
    "\"\"\"\n",
    "\n",
    "a = 5\n",
    "\n",
    "\n",
    "print(f\"The value of {a} power 2 is {a**2}\")\n",
    "\n",
    "print(f\"\"\"The value of {a} power 2 is {a**2}\"\"\")\n",
    "\n",
    "print('++++++++++++++')\n",
    "\n",
    "lst = [3, 4, 5]\n",
    "def mylen(lst):\n",
    "    return len(lst)\n",
    "print(f\"The length is {mylen(lst)}\")\n"
   ]
  },
  {
   "cell_type": "code",
   "execution_count": null,
   "id": "8e526b9a",
   "metadata": {},
   "outputs": [],
   "source": []
  }
 ],
 "metadata": {
  "kernelspec": {
   "display_name": "Python 3 (ipykernel)",
   "language": "python",
   "name": "python3"
  },
  "language_info": {
   "codemirror_mode": {
    "name": "ipython",
    "version": 3
   },
   "file_extension": ".py",
   "mimetype": "text/x-python",
   "name": "python",
   "nbconvert_exporter": "python",
   "pygments_lexer": "ipython3",
   "version": "3.9.12"
  }
 },
 "nbformat": 4,
 "nbformat_minor": 5
}
